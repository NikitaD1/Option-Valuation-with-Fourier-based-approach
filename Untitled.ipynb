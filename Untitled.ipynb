{
 "cells": [
  {
   "cell_type": "code",
   "execution_count": 101,
   "metadata": {},
   "outputs": [],
   "source": [
    "# %load characteristic_function\n",
    "def characteristic_function(u, T, r, sigma, lamb, mu, delta):\n",
    "    ''' Valuation of European call option in M76 model via\n",
    "    Lewis (2001) Fourier-based approach: characteristic function.\n",
    "    Parameter definitions see function M76_value_call_INT. '''\n",
    "    omega = r - 0.5 * sigma ** 2 - lamb * (np.exp(mu + 0.5 * delta ** 2) - 1)\n",
    "    value = np.exp((1j * u * omega - 0.5 * u ** 2 * sigma ** 2 + lamb * (np.exp(1j * u * mu - u ** 2 * delta ** 2 * 0.5) - 1)) * T)\n",
    "    return value"
   ]
  },
  {
   "cell_type": "code",
   "execution_count": 102,
   "metadata": {},
   "outputs": [],
   "source": [
    "# %load integration_function\n",
    "def integration_function(u, S0, K, T, r, sigma, lamb, mu, delta):\n",
    "\n",
    "    JDCF = characteristic_function(u - 0.5 * 1j, T, r,\n",
    "    sigma, lamb, mu, delta)\n",
    "    value = 1 / (u ** 2 + 0.25) * (np.exp(1j * u * math.log(S0 / K))* JDCF).real\n",
    "    return value"
   ]
  },
  {
   "cell_type": "code",
   "execution_count": 104,
   "metadata": {},
   "outputs": [
    {
     "name": "stdout",
     "output_type": "stream",
     "text": [
      "The value of call option is\n"
     ]
    }
   ],
   "source": [
    "# %load value_call_INT\n",
    "S0 = 100.0 # initial index level\n",
    "K = 100.0 # strike level\n",
    "T = 1.0 # call option maturity\n",
    "r = 0.05 # constant short rate\n",
    "sigma = 0.4 # constant volatility of diffusion\n",
    "lamb = 1.0 # jump frequency p.a.\n",
    "mu = -0.2 # expected jump size\n",
    "delta = 0.1 # jump size volatility\n",
    "int_value = quad(lambda u: integration_function(u, S0, K, T, r, sigma, lamb, mu, delta), 0, 50, limit=250)[0]\n",
    "call_value = S0 - np.exp(-r * T) * math.sqrt(S0 * K) / math.pi * int_value\n",
    "print( \"The value of call option is\" %call_value)\n"
   ]
  },
  {
   "cell_type": "code",
   "execution_count": 105,
   "metadata": {},
   "outputs": [
    {
     "name": "stdout",
     "output_type": "stream",
     "text": [
      "19.947853881446505\n"
     ]
    }
   ],
   "source": [
    "print(call_value)"
   ]
  },
  {
   "cell_type": "code",
   "execution_count": 106,
   "metadata": {},
   "outputs": [
    {
     "name": "stdout",
     "output_type": "stream",
     "text": [
      "The value of call option is\n"
     ]
    }
   ],
   "source": [
    "print(\"The value of call option is\" %call_value)"
   ]
  },
  {
   "cell_type": "code",
   "execution_count": 107,
   "metadata": {},
   "outputs": [
    {
     "name": "stdout",
     "output_type": "stream",
     "text": [
      "The value of call option is   19.948\n"
     ]
    }
   ],
   "source": [
    "print(\"The value of call option is %8.3f\" %call_value)"
   ]
  },
  {
   "cell_type": "code",
   "execution_count": 109,
   "metadata": {},
   "outputs": [
    {
     "ename": "TypeError",
     "evalue": "'module' object is not callable",
     "output_type": "error",
     "traceback": [
      "\u001b[1;31m---------------------------------------------------------------------------\u001b[0m",
      "\u001b[1;31mTypeError\u001b[0m                                 Traceback (most recent call last)",
      "\u001b[1;32m<ipython-input-109-0e9fcc39afa3>\u001b[0m in \u001b[0;36m<module>\u001b[1;34m()\u001b[0m\n\u001b[0;32m     11\u001b[0m \u001b[0mmu\u001b[0m \u001b[1;33m=\u001b[0m \u001b[1;33m-\u001b[0m\u001b[1;36m0.2\u001b[0m \u001b[1;31m# expected jump size\u001b[0m\u001b[1;33m\u001b[0m\u001b[0m\n\u001b[0;32m     12\u001b[0m \u001b[0mdelta\u001b[0m \u001b[1;33m=\u001b[0m \u001b[1;36m0.1\u001b[0m \u001b[1;31m# jump size volatility\u001b[0m\u001b[1;33m\u001b[0m\u001b[0m\n\u001b[1;32m---> 13\u001b[1;33m \u001b[0mprint\u001b[0m \u001b[1;33m(\u001b[0m\u001b[1;34m\"Value of Call Option %8.3f\"\u001b[0m \u001b[1;33m%\u001b[0m \u001b[0mvalue_call_INT\u001b[0m\u001b[1;33m(\u001b[0m\u001b[0mS0\u001b[0m\u001b[1;33m,\u001b[0m \u001b[0mK\u001b[0m\u001b[1;33m,\u001b[0m \u001b[0mT\u001b[0m\u001b[1;33m,\u001b[0m \u001b[0mr\u001b[0m\u001b[1;33m,\u001b[0m \u001b[0msigma\u001b[0m\u001b[1;33m,\u001b[0m \u001b[0mlamb\u001b[0m\u001b[1;33m,\u001b[0m \u001b[0mmu\u001b[0m\u001b[1;33m,\u001b[0m \u001b[0mdelta\u001b[0m\u001b[1;33m)\u001b[0m\u001b[1;33m)\u001b[0m\u001b[1;33m\u001b[0m\u001b[0m\n\u001b[0m",
      "\u001b[1;31mTypeError\u001b[0m: 'module' object is not callable"
     ]
    }
   ],
   "source": [
    "# %load main\n",
    "import math\n",
    "import numpy as np\n",
    "from scipy.integrate import quad\n",
    "S0 = 100.0 # initial index level\n",
    "K = 100.0 # strike level\n",
    "T = 1.0 # call option maturity\n",
    "r = 0.05 # constant short rate\n",
    "sigma = 0.4 # constant volatility of diffusion\n",
    "lamb = 1.0 # jump frequency p.a.\n",
    "mu = -0.2 # expected jump size\n",
    "delta = 0.1 # jump size volatility\n",
    "print (\"Value of Call Option %8.3f\" % value_call_INT(S0, K, T, r, sigma, lamb, mu, delta))"
   ]
  },
  {
   "cell_type": "code",
   "execution_count": 111,
   "metadata": {},
   "outputs": [
    {
     "ename": "TypeError",
     "evalue": "'module' object is not callable",
     "output_type": "error",
     "traceback": [
      "\u001b[1;31m---------------------------------------------------------------------------\u001b[0m",
      "\u001b[1;31mTypeError\u001b[0m                                 Traceback (most recent call last)",
      "\u001b[1;32m<ipython-input-111-7618c316b890>\u001b[0m in \u001b[0;36m<module>\u001b[1;34m()\u001b[0m\n\u001b[0;32m     11\u001b[0m \u001b[0mmu\u001b[0m \u001b[1;33m=\u001b[0m \u001b[1;33m-\u001b[0m\u001b[1;36m0.2\u001b[0m \u001b[1;31m# expected jump size\u001b[0m\u001b[1;33m\u001b[0m\u001b[0m\n\u001b[0;32m     12\u001b[0m \u001b[0mdelta\u001b[0m \u001b[1;33m=\u001b[0m \u001b[1;36m0.1\u001b[0m \u001b[1;31m# jump size volatility\u001b[0m\u001b[1;33m\u001b[0m\u001b[0m\n\u001b[1;32m---> 13\u001b[1;33m \u001b[0mz\u001b[0m\u001b[1;33m=\u001b[0m \u001b[0mvalue_call_INT\u001b[0m\u001b[1;33m(\u001b[0m\u001b[0mS0\u001b[0m\u001b[1;33m,\u001b[0m \u001b[0mK\u001b[0m\u001b[1;33m,\u001b[0m \u001b[0mT\u001b[0m\u001b[1;33m,\u001b[0m \u001b[0mr\u001b[0m\u001b[1;33m,\u001b[0m \u001b[0msigma\u001b[0m\u001b[1;33m,\u001b[0m \u001b[0mlamb\u001b[0m\u001b[1;33m,\u001b[0m \u001b[0mmu\u001b[0m\u001b[1;33m,\u001b[0m \u001b[0mdelta\u001b[0m\u001b[1;33m)\u001b[0m\u001b[1;33m\u001b[0m\u001b[0m\n\u001b[0m\u001b[0;32m     14\u001b[0m \u001b[0mprint\u001b[0m \u001b[1;33m(\u001b[0m\u001b[1;34m\"Value of Call Option %8.3f\"\u001b[0m \u001b[1;33m%\u001b[0m \u001b[0mz\u001b[0m\u001b[1;33m)\u001b[0m\u001b[1;33m\u001b[0m\u001b[0m\n",
      "\u001b[1;31mTypeError\u001b[0m: 'module' object is not callable"
     ]
    }
   ],
   "source": [
    "# %load main\n",
    "import math\n",
    "import numpy as np\n",
    "from scipy.integrate import quad\n",
    "S0 = 100.0 # initial index level\n",
    "K = 100.0 # strike level\n",
    "T = 1.0 # call option maturity\n",
    "r = 0.05 # constant short rate\n",
    "sigma = 0.4 # constant volatility of diffusion\n",
    "lamb = 1.0 # jump frequency p.a.\n",
    "mu = -0.2 # expected jump size\n",
    "delta = 0.1 # jump size volatility\n",
    "z= value_call_INT(S0, K, T, r, sigma, lamb, mu, delta)\n",
    "print (\"Value of Call Option %8.3f\" % z)"
   ]
  },
  {
   "cell_type": "code",
   "execution_count": 112,
   "metadata": {},
   "outputs": [],
   "source": [
    "from value_call_INT import value_call_INT"
   ]
  },
  {
   "cell_type": "code",
   "execution_count": 113,
   "metadata": {},
   "outputs": [
    {
     "ename": "AttributeError",
     "evalue": "'function' object has no attribute 'value_call_INT'",
     "output_type": "error",
     "traceback": [
      "\u001b[1;31m---------------------------------------------------------------------------\u001b[0m",
      "\u001b[1;31mAttributeError\u001b[0m                            Traceback (most recent call last)",
      "\u001b[1;32m<ipython-input-113-93571106b7df>\u001b[0m in \u001b[0;36m<module>\u001b[1;34m()\u001b[0m\n\u001b[1;32m----> 1\u001b[1;33m \u001b[0mvalue_call_INT\u001b[0m\u001b[1;33m.\u001b[0m\u001b[0mvalue_call_INT\u001b[0m\u001b[1;33m\u001b[0m\u001b[0m\n\u001b[0m",
      "\u001b[1;31mAttributeError\u001b[0m: 'function' object has no attribute 'value_call_INT'"
     ]
    }
   ],
   "source": [
    "value_call_INT.value_call_INT"
   ]
  },
  {
   "cell_type": "code",
   "execution_count": 114,
   "metadata": {},
   "outputs": [
    {
     "ename": "AttributeError",
     "evalue": "'function' object has no attribute 'value_call_INT'",
     "output_type": "error",
     "traceback": [
      "\u001b[1;31m---------------------------------------------------------------------------\u001b[0m",
      "\u001b[1;31mAttributeError\u001b[0m                            Traceback (most recent call last)",
      "\u001b[1;32m<ipython-input-114-93571106b7df>\u001b[0m in \u001b[0;36m<module>\u001b[1;34m()\u001b[0m\n\u001b[1;32m----> 1\u001b[1;33m \u001b[0mvalue_call_INT\u001b[0m\u001b[1;33m.\u001b[0m\u001b[0mvalue_call_INT\u001b[0m\u001b[1;33m\u001b[0m\u001b[0m\n\u001b[0m",
      "\u001b[1;31mAttributeError\u001b[0m: 'function' object has no attribute 'value_call_INT'"
     ]
    }
   ],
   "source": [
    "value_call_INT.value_call_INT"
   ]
  },
  {
   "cell_type": "code",
   "execution_count": null,
   "metadata": {},
   "outputs": [],
   "source": []
  }
 ],
 "metadata": {
  "kernelspec": {
   "display_name": "Python 3",
   "language": "python",
   "name": "python3"
  },
  "language_info": {
   "codemirror_mode": {
    "name": "ipython",
    "version": 3
   },
   "file_extension": ".py",
   "mimetype": "text/x-python",
   "name": "python",
   "nbconvert_exporter": "python",
   "pygments_lexer": "ipython3",
   "version": "3.6.4"
  }
 },
 "nbformat": 4,
 "nbformat_minor": 2
}
