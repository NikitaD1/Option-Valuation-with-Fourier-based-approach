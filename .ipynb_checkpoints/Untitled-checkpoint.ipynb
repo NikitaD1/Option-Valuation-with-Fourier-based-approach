{
 "cells": [
  {
   "cell_type": "code",
   "execution_count": null,
   "metadata": {},
   "outputs": [],
   "source": [
    "# %load main.py\n",
    "S0 = 100.0 # initial index level\n",
    "K = 100.0 # strike level\n",
    "T = 1.0 # call option maturity\n",
    "r = 0.05 # constant short rate\n",
    "sigma = 0.4 # constant volatility of diffusion\n",
    "lamb = 1.0 # jump frequency p.a.\n",
    "mu = -0.2 # expected jump size\n",
    "delta = 0.1 # jump size volatility\n",
    "print \"Value of Call Option %8.3f\" \\\n",
    "% M76_value_call_INT(S0, K, T, r, sigma, lamb, mu, delta)"
   ]
  },
  {
   "cell_type": "code",
   "execution_count": null,
   "metadata": {},
   "outputs": [],
   "source": [
    "# %load integration_function.py\n",
    "def integration_function(u, S0, K, T, r, sigma, lamb, mu, delta):\n",
    "\n",
    "    JDCF = M76_characteristic_function(u - 0.5 * 1j, T, r,\n",
    "    sigma, lamb, mu, delta)\n",
    "    value = 1 / (u ** 2 + 0.25) * (np.exp(1j * u * math.log(S0 / K))* JDCF).real\n",
    "    return value"
   ]
  },
  {
   "cell_type": "code",
   "execution_count": null,
   "metadata": {},
   "outputs": [],
   "source": [
    "# %load characteristic_function.py\n",
    "def characteristic_function(u, T, r, sigma, lamb, mu, delta):\n",
    "''' Valuation of European call option in M76 model via\n",
    "Lewis (2001) Fourier-based approach: characteristic function.\n",
    "Parameter definitions see function M76_value_call_INT. '''\n",
    "omega = r - 0.5 * sigma ** 2 - lamb * (np.exp(mu + 0.5 * delta ** 2) - 1)\n",
    "value = np.exp((1j * u * omega - 0.5 * u ** 2 * sigma ** 2 +\n",
    "lamb * (np.exp(1j * u * mu - u ** 2 * delta ** 2 * 0.5) - 1)) * T)\n",
    "return value"
   ]
  },
  {
   "cell_type": "code",
   "execution_count": null,
   "metadata": {},
   "outputs": [],
   "source": [
    "# %load value_call_INT.py\n",
    "def value_call_INT(S0, K, T, r, sigma, lamb, mu, delta):\n",
    "''' \n",
    "Valuation of European call option in M76 model via\n",
    "Lewis (2001) Fourier-based approach.\n",
    "Parameters\n",
    "\n",
    "'''\n",
    "int_value = quad(lambda u: M76_integration_function(u, S0, K, T, r,\n",
    "sigma, lamb, mu, delta), 0, 50, limit=250)[0]\n",
    "call_value = S0 - np.exp(-r * T) * math.sqrt(S0 * K) / math.pi * int_value\n",
    "return call_value"
   ]
  },
  {
   "cell_type": "code",
   "execution_count": null,
   "metadata": {},
   "outputs": [],
   "source": []
  }
 ],
 "metadata": {
  "kernelspec": {
   "display_name": "Python 3",
   "language": "python",
   "name": "python3"
  },
  "language_info": {
   "codemirror_mode": {
    "name": "ipython",
    "version": 3
   },
   "file_extension": ".py",
   "mimetype": "text/x-python",
   "name": "python",
   "nbconvert_exporter": "python",
   "pygments_lexer": "ipython3",
   "version": "3.6.4"
  }
 },
 "nbformat": 4,
 "nbformat_minor": 2
}
